{
 "cells": [
  {
   "cell_type": "markdown",
   "metadata": {},
   "source": [
    "## Dictionary - lug'atlar\n",
    "\n",
    "\n",
    "we use dictionary for various uses. For example, datas come with dicts all of the informations has their dicts\\\n",
    "\n",
    "\n",
    "\n",
    "how to create a dict?\n",
    "\n",
    "model = {\n",
    "    \"key\":\"value\"\n",
    "}\n",
    "\n",
    "\n",
    "\n",
    "`for example`\n",
    "\n",
    "\n",
    "\n",
    "user = {\n",
    "    \"name\":\"Abdurahim\",\n",
    "    \"surname\":\"Ubaydov\" \n",
    "    ... and we can continue this endless\n",
    "}"
   ]
  },
  {
   "cell_type": "code",
   "execution_count": 16,
   "metadata": {},
   "outputs": [],
   "source": [
    "student = {\n",
    "    \"name\":\"abdurahim\",\n",
    "    \"surname\":\"Ubaydov\",\n",
    "    \"age\":18,\n",
    "    \"birth_year\":2006,\n",
    "}"
   ]
  },
  {
   "cell_type": "code",
   "execution_count": 19,
   "metadata": {},
   "outputs": [
    {
     "data": {
      "text/plain": [
       "'ABDURAHIM'"
      ]
     },
     "execution_count": 19,
     "metadata": {},
     "output_type": "execute_result"
    }
   ],
   "source": [
    "# taking an only value from dict\n",
    "student['name'] # it's equal to Abdurahim"
   ]
  },
  {
   "cell_type": "code",
   "execution_count": 20,
   "metadata": {},
   "outputs": [],
   "source": [
    "# changing key's value\n",
    "\n",
    "student['name'] = 'Abdurahim'.upper()"
   ]
  },
  {
   "cell_type": "code",
   "execution_count": 21,
   "metadata": {},
   "outputs": [],
   "source": [
    "# adding new key to the dictionary\n",
    "\n",
    "student['married_status'] = False"
   ]
  },
  {
   "cell_type": "code",
   "execution_count": 31,
   "metadata": {},
   "outputs": [],
   "source": [
    "values = student.values()"
   ]
  },
  {
   "cell_type": "code",
   "execution_count": 32,
   "metadata": {},
   "outputs": [],
   "source": [
    "# deleting value from dict\n",
    "\n",
    "del student['married_status']"
   ]
  },
  {
   "cell_type": "code",
   "execution_count": 33,
   "metadata": {},
   "outputs": [
    {
     "data": {
      "text/plain": [
       "{'name': 'ABDURAHIM', 'surname': 'Ubaydov', 'age': 18, 'birth_year': 2006}"
      ]
     },
     "execution_count": 33,
     "metadata": {},
     "output_type": "execute_result"
    }
   ],
   "source": [
    "student"
   ]
  },
  {
   "cell_type": "code",
   "execution_count": null,
   "metadata": {},
   "outputs": [],
   "source": []
  }
 ],
 "metadata": {
  "kernelspec": {
   "display_name": "base",
   "language": "python",
   "name": "python3"
  },
  "language_info": {
   "codemirror_mode": {
    "name": "ipython",
    "version": 3
   },
   "file_extension": ".py",
   "mimetype": "text/x-python",
   "name": "python",
   "nbconvert_exporter": "python",
   "pygments_lexer": "ipython3",
   "version": "3.12.7"
  }
 },
 "nbformat": 4,
 "nbformat_minor": 2
}
