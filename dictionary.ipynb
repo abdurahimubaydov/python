{
 "cells": [
  {
   "cell_type": "markdown",
   "metadata": {},
   "source": [
    "## Dictionary - lug'atlar\n",
    "\n",
    "\n",
    "we use dictionary for various uses. For example, datas come with dicts all of the informations has their dicts\\\n",
    "\n",
    "\n",
    "\n",
    "how to create a dict?\n",
    "\n",
    "model = {\n",
    "    \"key\":\"value\"\n",
    "}\n",
    "\n",
    "\n",
    "\n",
    "`for example`\n",
    "\n",
    "\n",
    "\n",
    "user = {\n",
    "    \"name\":\"Abdurahim\",\n",
    "    \"surname\":\"Ubaydov\" \n",
    "    ... and we can continue this endless\n",
    "}"
   ]
  },
  {
   "cell_type": "code",
   "execution_count": 16,
   "metadata": {},
   "outputs": [],
   "source": [
    "student = {\n",
    "    \"name\":\"abdurahim\",\n",
    "    \"surname\":\"Ubaydov\",\n",
    "    \"age\":18,\n",
    "    \"birth_year\":2006,\n",
    "}"
   ]
  },
  {
   "cell_type": "code",
   "execution_count": 19,
   "metadata": {},
   "outputs": [
    {
     "data": {
      "text/plain": [
       "'ABDURAHIM'"
      ]
     },
     "execution_count": 19,
     "metadata": {},
     "output_type": "execute_result"
    }
   ],
   "source": [
    "# taking an only value from dict\n",
    "student['name'] # it's equal to Abdurahim"
   ]
  },
  {
   "cell_type": "code",
   "execution_count": 20,
   "metadata": {},
   "outputs": [],
   "source": [
    "# changing key's value\n",
    "\n",
    "student['name'] = 'Abdurahim'.upper()"
   ]
  },
  {
   "cell_type": "code",
   "execution_count": 21,
   "metadata": {},
   "outputs": [],
   "source": [
    "# adding new key to the dictionary\n",
    "\n",
    "student['married_status'] = False"
   ]
  },
  {
   "cell_type": "code",
   "execution_count": 31,
   "metadata": {},
   "outputs": [],
   "source": [
    "values = student.values()"
   ]
  },
  {
   "cell_type": "code",
   "execution_count": 32,
   "metadata": {},
   "outputs": [],
   "source": [
    "# deleting value from dict\n",
    "\n",
    "del student['married_status']"
   ]
  },
  {
   "cell_type": "code",
   "execution_count": 33,
   "metadata": {},
   "outputs": [
    {
     "data": {
      "text/plain": [
       "{'name': 'ABDURAHIM', 'surname': 'Ubaydov', 'age': 18, 'birth_year': 2006}"
      ]
     },
     "execution_count": 33,
     "metadata": {},
     "output_type": "execute_result"
    }
   ],
   "source": [
    "student"
   ]
  },
  {
   "cell_type": "markdown",
   "metadata": {},
   "source": [
    "## practise"
   ]
  },
  {
   "cell_type": "code",
   "execution_count": 36,
   "metadata": {},
   "outputs": [
    {
     "name": "stdout",
     "output_type": "stream",
     "text": [
      " my dad's AbduRakhmon Alayev was born in 1981 in Bukhara \n"
     ]
    }
   ],
   "source": [
    "# 1\n",
    "\n",
    "dad = {\n",
    "    \"name\":'AbduRakhmon',\n",
    "    \"surname\":'Alayev',\n",
    "    \"birth_year\":1981,\n",
    "    \"birth_location\":\"Bukhara\"\n",
    "}\n",
    "\n",
    "\n",
    "print(f\" my dad's {dad['name']} {dad['surname']} was born in {dad['birth_year']} in {dad['birth_location']} \")"
   ]
  },
  {
   "cell_type": "code",
   "execution_count": 39,
   "metadata": {},
   "outputs": [
    {
     "name": "stdout",
     "output_type": "stream",
     "text": [
      " my favoirute dish is pilaf \n",
      " moms favoirute dish is kabob \n",
      " dads favoirute dish is shorva \n",
      " brothers favoirute dish is fast food \n",
      " sisters favoirute dish is somsa \n"
     ]
    }
   ],
   "source": [
    "# 2\n",
    "\n",
    "favourite_dish = {\n",
    "    'mine':'pilaf',\n",
    "    'moms':'kabob',\n",
    "    \"dads\":'shorva',\n",
    "    'brothers':'fast food',\n",
    "    'sisters':'somsa'\n",
    "}\n",
    "\n",
    "for key, value in favourite_dish.items():\n",
    "    if key == 'mine':\n",
    "        print(f\" my favoirute dish is {value} \")\n",
    "    else:\n",
    "        print(f\" {key} favoirute dish is {value} \")"
   ]
  },
  {
   "cell_type": "code",
   "execution_count": 42,
   "metadata": {},
   "outputs": [],
   "source": [
    "# 3 \n",
    "\n",
    "python = {}"
   ]
  },
  {
   "cell_type": "code",
   "execution_count": 45,
   "metadata": {},
   "outputs": [
    {
     "data": {
      "text/plain": [
       "{'integer': 'butun son',\n",
       " 'float': 'onlik son',\n",
       " 'value': 'qiymat',\n",
       " 'print': 'chop etish',\n",
       " 'if': 'agar'}"
      ]
     },
     "execution_count": 45,
     "metadata": {},
     "output_type": "execute_result"
    }
   ],
   "source": [
    "python['integer'] = 'butun son'\n",
    "python['float'] = 'onlik son'\n",
    "python['value'] = 'qiymat'\n",
    "python['print'] = 'chop etish'\n",
    "python['if'] = 'agar'\n",
    "\n",
    "\n",
    "python"
   ]
  },
  {
   "cell_type": "code",
   "execution_count": null,
   "metadata": {},
   "outputs": [
    {
     "name": "stdout",
     "output_type": "stream",
     "text": [
      "not included yet\n"
     ]
    }
   ],
   "source": [
    "# 4\n",
    "\n",
    "users_value = input(\"Enter something: \").lower()\n",
    "\n",
    "dict = python.get(users_value, 'not included yet')\n",
    "\n",
    "print(dict)"
   ]
  },
  {
   "cell_type": "code",
   "execution_count": 52,
   "metadata": {},
   "outputs": [
    {
     "name": "stdout",
     "output_type": "stream",
     "text": [
      "qiymat\n"
     ]
    }
   ],
   "source": [
    "# 5\n",
    " \n",
    "users_value = input(\"Enter something: \").lower()\n",
    "dictt = python.get(users_value)\n",
    "\n",
    "if dictt == None:\n",
    "    print('did not included yet')\n",
    "else:\n",
    "    print(dictt)\n"
   ]
  },
  {
   "cell_type": "code",
   "execution_count": null,
   "metadata": {},
   "outputs": [],
   "source": []
  }
 ],
 "metadata": {
  "kernelspec": {
   "display_name": "base",
   "language": "python",
   "name": "python3"
  },
  "language_info": {
   "codemirror_mode": {
    "name": "ipython",
    "version": 3
   },
   "file_extension": ".py",
   "mimetype": "text/x-python",
   "name": "python",
   "nbconvert_exporter": "python",
   "pygments_lexer": "ipython3",
   "version": "3.12.7"
  }
 },
 "nbformat": 4,
 "nbformat_minor": 2
}
