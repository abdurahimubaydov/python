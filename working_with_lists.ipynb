{
 "cells": [
  {
   "cell_type": "markdown",
   "metadata": {},
   "source": [
    "## Working with lists\n"
   ]
  },
  {
   "cell_type": "code",
   "execution_count": 1,
   "metadata": {},
   "outputs": [],
   "source": [
    "lists_strings = ['salom', 'elon', 'menu', 'xcode', 'manifacture', 'arithmetics']"
   ]
  },
  {
   "cell_type": "code",
   "execution_count": 12,
   "metadata": {},
   "outputs": [],
   "source": [
    "lists_strings.sort() # sorting the list by the alphabet\n",
    "\n",
    "# while sorting the first letter of every word in array will be ahead\n",
    "\n",
    "lists_strings_with_upper = ['salom', 'elon', 'Menu', 'xcode', 'apple', 'manifacture', 'arithmetics']"
   ]
  },
  {
   "cell_type": "code",
   "execution_count": 13,
   "metadata": {},
   "outputs": [
    {
     "data": {
      "text/plain": [
       "['Menu', 'apple', 'arithmetics', 'elon', 'manifacture', 'salom', 'xcode']"
      ]
     },
     "execution_count": 13,
     "metadata": {},
     "output_type": "execute_result"
    }
   ],
   "source": [
    "lists_strings_with_upper.sort()\n",
    "\n",
    "lists_strings_with_upper"
   ]
  },
  {
   "cell_type": "markdown",
   "metadata": {},
   "source": [
    "while working with lists, should use `uppper`, `lower`, `title`, `capitalise` before sorting "
   ]
  },
  {
   "cell_type": "code",
   "execution_count": 18,
   "metadata": {},
   "outputs": [
    {
     "data": {
      "text/plain": [
       "['xcode', 'salom', 'menu', 'manifacture', 'elon', 'arithmetics']"
      ]
     },
     "execution_count": 18,
     "metadata": {},
     "output_type": "execute_result"
    }
   ],
   "source": [
    "# sorted() - it doesn't effect to the main array, but array.sort() - it does affect to the main \n",
    "\n",
    "sorted(lists_strings, reverse=True) # reverse - sort array from z to a "
   ]
  },
  {
   "cell_type": "markdown",
   "metadata": {},
   "source": [
    "### also we can do `sorting` between numeral arrays"
   ]
  },
  {
   "cell_type": "code",
   "execution_count": 19,
   "metadata": {},
   "outputs": [],
   "source": [
    "numeral_array = [12, 134, 1, -1, 43, 3, -324242, 0.213322, 91]\n",
    "\n",
    "# like string array, as we use array.sort(), it affects to the main array. Sorted(array), it doesn't effect to the main"
   ]
  },
  {
   "cell_type": "code",
   "execution_count": null,
   "metadata": {},
   "outputs": [
    {
     "data": {
      "text/plain": [
       "<function sorted(iterable, /, *, key=None, reverse=False)>"
      ]
     },
     "execution_count": 20,
     "metadata": {},
     "output_type": "execute_result"
    }
   ],
   "source": [
    "sorted_array = "
   ]
  },
  {
   "cell_type": "code",
   "execution_count": null,
   "metadata": {},
   "outputs": [],
   "source": []
  }
 ],
 "metadata": {
  "kernelspec": {
   "display_name": "Python 3",
   "language": "python",
   "name": "python3"
  },
  "language_info": {
   "codemirror_mode": {
    "name": "ipython",
    "version": 3
   },
   "file_extension": ".py",
   "mimetype": "text/x-python",
   "name": "python",
   "nbconvert_exporter": "python",
   "pygments_lexer": "ipython3",
   "version": "3.13.0"
  }
 },
 "nbformat": 4,
 "nbformat_minor": 2
}
