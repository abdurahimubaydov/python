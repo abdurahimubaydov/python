{
 "cells": [
  {
   "cell_type": "markdown",
   "metadata": {},
   "source": [
    "## Numbers\n",
    "\n",
    "\n",
    "there are 2 types of numbers \n",
    "\n",
    "1-integers - butun sonlar\n",
    "\n",
    "2-floats"
   ]
  },
  {
   "cell_type": "code",
   "execution_count": 1,
   "metadata": {},
   "outputs": [
    {
     "data": {
      "text/plain": [
       "50"
      ]
     },
     "execution_count": 1,
     "metadata": {},
     "output_type": "execute_result"
    }
   ],
   "source": [
    "# integers\n",
    " \n",
    "a = 20\n",
    "b = 30\n",
    "overall = a + b\n",
    "\n",
    "overall"
   ]
  },
  {
   "cell_type": "code",
   "execution_count": 3,
   "metadata": {},
   "outputs": [
    {
     "data": {
      "text/plain": [
       "50.6"
      ]
     },
     "execution_count": 3,
     "metadata": {},
     "output_type": "execute_result"
    }
   ],
   "source": [
    "# floats\n",
    "\n",
    "a_float = 20.1\n",
    "b_float = 30.5\n",
    "\n",
    "overall_float = a_float + b_float\n",
    "\n",
    "overall_float"
   ]
  },
  {
   "cell_type": "code",
   "execution_count": 5,
   "metadata": {},
   "outputs": [
    {
     "data": {
      "text/plain": [
       "11232323232323"
      ]
     },
     "execution_count": 5,
     "metadata": {},
     "output_type": "execute_result"
    }
   ],
   "source": [
    "# also we can express numbers like 1_2, it outputs numbers without _\n",
    "\n",
    "unusual_exp = 1_12323_232323_23\n",
    "unusual_exp"
   ]
  },
  {
   "cell_type": "code",
   "execution_count": 8,
   "metadata": {},
   "outputs": [],
   "source": [
    "# one of the adventiges of python that we can create several variables in a row and also add values in a row\n",
    "\n",
    "x, y, z = 1, 2, 3\n",
    "\n",
    "# expressions over one-row-variables\n",
    "\n",
    "adding = (x + y + z)\n",
    "subsracting = (x - y - z)"
   ]
  },
  {
   "cell_type": "markdown",
   "metadata": {},
   "source": [
    "### when we're doing expressions between float and integer and in some situations the answer will be showed as an integer, But in the cache it's saved as float"
   ]
  },
  {
   "cell_type": "code",
   "execution_count": null,
   "metadata": {},
   "outputs": [
    {
     "data": {
      "text/plain": [
       "25.0"
      ]
     },
     "execution_count": 10,
     "metadata": {},
     "output_type": "execute_result"
    }
   ],
   "source": [
    "# for example\n",
    "aa = 12.1\n",
    "bb = 12.9\n",
    "\n",
    "aa+bb # 25.0"
   ]
  },
  {
   "cell_type": "code",
   "execution_count": 13,
   "metadata": {},
   "outputs": [
    {
     "name": "stdout",
     "output_type": "stream",
     "text": [
      "5.0\n",
      "5\n"
     ]
    }
   ],
   "source": [
    "## divide signs / and //\n",
    "# / -> it divide's numbers as a float, \n",
    "# // => this's divides as an integer, for example\n",
    "\n",
    "print(10/2)\n",
    "print(10//2)"
   ]
  },
  {
   "cell_type": "markdown",
   "metadata": {},
   "source": [
    "## non-changeble `variables`\n",
    "\n",
    "#### like other PL, in python also has non-changeble variables. In example included some of them"
   ]
  },
  {
   "cell_type": "code",
   "execution_count": 21,
   "metadata": {},
   "outputs": [],
   "source": [
    "PI = 3.54"
   ]
  },
  {
   "cell_type": "markdown",
   "metadata": {},
   "source": [
    "#### when we wanna use input function, it always returns string values, but when we try to add values integer or float in input we've to add type outside of the input\n",
    "\n",
    "#### for example:"
   ]
  },
  {
   "cell_type": "code",
   "execution_count": 24,
   "metadata": {},
   "outputs": [
    {
     "name": "stdout",
     "output_type": "stream",
     "text": [
      "14\n"
     ]
    }
   ],
   "source": [
    "# value = input('enter the value: ')\n",
    "# print(2+value) => it returns type error, but \n",
    "\n",
    "value = int(input('enter the value: '))\n",
    "print(2+value)"
   ]
  },
  {
   "cell_type": "markdown",
   "metadata": {},
   "source": [
    "# Practice"
   ]
  },
  {
   "cell_type": "code",
   "execution_count": 26,
   "metadata": {},
   "outputs": [
    {
     "name": "stdout",
     "output_type": "stream",
     "text": [
      "square 4\n",
      "cub 8\n"
     ]
    }
   ],
   "source": [
    "# 1\n",
    "value = int(input('add number: '))\n",
    "print(f'square {value**2}')\n",
    "print(f'cub {value**3}')"
   ]
  },
  {
   "cell_type": "code",
   "execution_count": 27,
   "metadata": {},
   "outputs": [
    {
     "name": "stdout",
     "output_type": "stream",
     "text": [
      "you were born in 2006\n"
     ]
    }
   ],
   "source": [
    "# 2\n",
    "users_age = int(input('enter your age: '))\n",
    "print(f'you were born in {2024-users_age}')"
   ]
  },
  {
   "cell_type": "code",
   "execution_count": 28,
   "metadata": {},
   "outputs": [
    {
     "name": "stdout",
     "output_type": "stream",
     "text": [
      " 12.0 + 13.0 = 25.0 \n",
      " 12.0 - 13.0 = -1.0 \n",
      " 12.0 / 13.0 = 0.9230769230769231 \n",
      " 12.0 * 13.0 = 156.0 \n"
     ]
    }
   ],
   "source": [
    "# \n",
    "first_value = float(input('enter any number: '))\n",
    "second_value = float(input('enter any value'))\n",
    "\n",
    "print(f\" {first_value} + {second_value} = {first_value+second_value} \")\n",
    "print(f\" {first_value} - {second_value} = {first_value-second_value} \")\n",
    "print(f\" {first_value} / {second_value} = {first_value/second_value} \")\n",
    "print(f\" {first_value} * {second_value} = {first_value*second_value} \")"
   ]
  },
  {
   "cell_type": "code",
   "execution_count": null,
   "metadata": {},
   "outputs": [],
   "source": []
  }
 ],
 "metadata": {
  "kernelspec": {
   "display_name": "Python 3",
   "language": "python",
   "name": "python3"
  },
  "language_info": {
   "codemirror_mode": {
    "name": "ipython",
    "version": 3
   },
   "file_extension": ".py",
   "mimetype": "text/x-python",
   "name": "python",
   "nbconvert_exporter": "python",
   "pygments_lexer": "ipython3",
   "version": "3.13.0"
  }
 },
 "nbformat": 4,
 "nbformat_minor": 2
}
