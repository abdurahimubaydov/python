{
 "cells": [
  {
   "cell_type": "markdown",
   "metadata": {},
   "source": [
    "# IF, ELIF and ELSE"
   ]
  },
  {
   "cell_type": "code",
   "execution_count": null,
   "metadata": {},
   "outputs": [
    {
     "name": "stdout",
     "output_type": "stream",
     "text": [
      "juft son kiriting\n"
     ]
    }
   ],
   "source": [
    "# 1\n",
    "\n",
    "number = int(input('juft son kiriting: '))\n",
    "\n",
    "if number % 2 == 0: \n",
    "    print('Rahmat!') \n",
    "else: \n",
    "    print('juft son kiriting!!!!!!!!!!!!!')"
   ]
  },
  {
   "cell_type": "code",
   "execution_count": null,
   "metadata": {},
   "outputs": [
    {
     "name": "stdout",
     "output_type": "stream",
     "text": [
      "Free entrance\n"
     ]
    }
   ],
   "source": [
    "# 2\n",
    "\n",
    "age = int(input('Enter your age: '))\n",
    "\n",
    "if age <= 4 or age >= 60: \n",
    "    print('Free entrance')\n",
    "elif age <= 18:\n",
    "    print('Cost\\'s 10K sum') \n",
    "else: \n",
    "    print('Cost\\'s 20K sum') "
   ]
  },
  {
   "cell_type": "code",
   "execution_count": 12,
   "metadata": {},
   "outputs": [
    {
     "name": "stdout",
     "output_type": "stream",
     "text": [
      "2 ta son kiriting\n",
      " 32 bigger than 21 \n"
     ]
    }
   ],
   "source": [
    "# 3\n",
    "print('2 ta son kiriting')\n",
    "first_number = int(input('first number: '))\n",
    "second_number = int(input('second number: '))\n",
    "\n",
    "if first_number == second_number: print('numbers are equal')\n",
    "elif first_number > second_number: print(f' {first_number} bigger than {second_number} ')\n",
    "else: print(f' {second_number} bigger than {first_number} ')"
   ]
  },
  {
   "cell_type": "code",
   "execution_count": null,
   "metadata": {},
   "outputs": [],
   "source": [
    "# 4 \n",
    "\n",
    "mahsulotlar = ['strawberry', 'egg', 'cucumber', 'bisquit', 'cake', 'apple', 'milk', 'water', 'candy', 'mint']"
   ]
  },
  {
   "cell_type": "code",
   "execution_count": null,
   "metadata": {},
   "outputs": [],
   "source": []
  }
 ],
 "metadata": {
  "kernelspec": {
   "display_name": "Python 3",
   "language": "python",
   "name": "python3"
  },
  "language_info": {
   "codemirror_mode": {
    "name": "ipython",
    "version": 3
   },
   "file_extension": ".py",
   "mimetype": "text/x-python",
   "name": "python",
   "nbconvert_exporter": "python",
   "pygments_lexer": "ipython3",
   "version": "3.13.0"
  }
 },
 "nbformat": 4,
 "nbformat_minor": 2
}
