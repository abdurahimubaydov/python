{
 "cells": [
  {
   "cell_type": "markdown",
   "metadata": {},
   "source": [
    "## Nesting"
   ]
  },
  {
   "cell_type": "code",
   "execution_count": 1,
   "metadata": {},
   "outputs": [],
   "source": [
    "user1 = {\n",
    "    \"name\":\"Abdurahim\",\n",
    "    \"birth_date\":2006,\n",
    "    \"age\":18,\n",
    "    \"married\":False\n",
    "}\n",
    "\n",
    "user2 = {\n",
    "    \"name\":\"Akram\",\n",
    "    \"birth_date\":1999,\n",
    "    \"age\":25,\n",
    "    \"married\":True\n",
    "}\n",
    "\n",
    "user3 = {\n",
    "    \"name\":\"Timur\",\n",
    "    \"birth_date\":2005,\n",
    "    \"age\":19,\n",
    "    \"married\":False\n",
    "}"
   ]
  },
  {
   "cell_type": "code",
   "execution_count": 2,
   "metadata": {},
   "outputs": [],
   "source": [
    "users = [user1, user2, user3]"
   ]
  },
  {
   "cell_type": "code",
   "execution_count": 8,
   "metadata": {},
   "outputs": [
    {
     "name": "stdout",
     "output_type": "stream",
     "text": [
      " Abdurahim 2006-yilda tug'ulgan. Hozir yoshi 18da. Uylanmagan. \n",
      " Akram 1999-yilda tug'ulgan. Hozir yoshi 25da. Uylangan. \n",
      " Timur 2005-yilda tug'ulgan. Hozir yoshi 19da. Uylanmagan. \n"
     ]
    }
   ],
   "source": [
    "for user in users:\n",
    "    print(f\" {user['name']} {user['birth_date']}-yilda tug'ulgan. Hozir yoshi {user['age']}da. {'uylanmagan'.title() if not user['married'] else 'uylangan'.title()}. \")"
   ]
  },
  {
   "cell_type": "code",
   "execution_count": null,
   "metadata": {},
   "outputs": [],
   "source": []
  }
 ],
 "metadata": {
  "kernelspec": {
   "display_name": "base",
   "language": "python",
   "name": "python3"
  },
  "language_info": {
   "codemirror_mode": {
    "name": "ipython",
    "version": 3
   },
   "file_extension": ".py",
   "mimetype": "text/x-python",
   "name": "python",
   "nbconvert_exporter": "python",
   "pygments_lexer": "ipython3",
   "version": "3.12.7"
  }
 },
 "nbformat": 4,
 "nbformat_minor": 2
}
