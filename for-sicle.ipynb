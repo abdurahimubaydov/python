{
 "cells": [
  {
   "cell_type": "markdown",
   "metadata": {},
   "source": [
    "## Sicle for"
   ]
  },
  {
   "cell_type": "code",
   "execution_count": 1,
   "metadata": {},
   "outputs": [],
   "source": [
    "# for - expresses items in the array at once, not ine by one\n",
    "\n",
    "names = ['Abdurahim', 'Abdurashid', 'Sobir', 'Saida', 'Abdurauf', 'Akbar', 'Otabek', 'Bexruz']"
   ]
  },
  {
   "cell_type": "code",
   "execution_count": 2,
   "metadata": {},
   "outputs": [
    {
     "name": "stdout",
     "output_type": "stream",
     "text": [
      " Abdurahim hello, how are you \n"
     ]
    }
   ],
   "source": [
    "print(f\" {names[0]} hello, how are you \")"
   ]
  },
  {
   "cell_type": "code",
   "execution_count": 8,
   "metadata": {},
   "outputs": [
    {
     "name": "stdout",
     "output_type": "stream",
     "text": [
      " hello Abdurahim, how are you my boy \n",
      "['Abdurahim', 'Abdurashid', 'Sobir', 'Saida', 'Abdurauf', 'Akbar', 'Otabek', 'Bexruz'] \t\n",
      " hello Abdurashid, how are you my boy \n",
      "['Abdurahim', 'Abdurashid', 'Sobir', 'Saida', 'Abdurauf', 'Akbar', 'Otabek', 'Bexruz'] \t\n",
      " hello Sobir, how are you my boy \n",
      "['Abdurahim', 'Abdurashid', 'Sobir', 'Saida', 'Abdurauf', 'Akbar', 'Otabek', 'Bexruz'] \t\n",
      " hello Saida, how are you my boy \n",
      "['Abdurahim', 'Abdurashid', 'Sobir', 'Saida', 'Abdurauf', 'Akbar', 'Otabek', 'Bexruz'] \t\n",
      " hello Abdurauf, how are you my boy \n",
      "['Abdurahim', 'Abdurashid', 'Sobir', 'Saida', 'Abdurauf', 'Akbar', 'Otabek', 'Bexruz'] \t\n",
      " hello Akbar, how are you my boy \n",
      "['Abdurahim', 'Abdurashid', 'Sobir', 'Saida', 'Abdurauf', 'Akbar', 'Otabek', 'Bexruz'] \t\n",
      " hello Otabek, how are you my boy \n",
      "['Abdurahim', 'Abdurashid', 'Sobir', 'Saida', 'Abdurauf', 'Akbar', 'Otabek', 'Bexruz'] \t\n",
      " hello Bexruz, how are you my boy \n",
      "['Abdurahim', 'Abdurashid', 'Sobir', 'Saida', 'Abdurauf', 'Akbar', 'Otabek', 'Bexruz'] \t\n"
     ]
    }
   ],
   "source": [
    "for name in names:\n",
    "    print(f\" hello {name}, how are you my boy \")\n",
    "\n",
    "    print(names, '\\t')"
   ]
  },
  {
   "cell_type": "code",
   "execution_count": null,
   "metadata": {},
   "outputs": [],
   "source": [
    "# also we can use "
   ]
  }
 ],
 "metadata": {
  "kernelspec": {
   "display_name": "Python 3",
   "language": "python",
   "name": "python3"
  },
  "language_info": {
   "codemirror_mode": {
    "name": "ipython",
    "version": 3
   },
   "file_extension": ".py",
   "mimetype": "text/x-python",
   "name": "python",
   "nbconvert_exporter": "python",
   "pygments_lexer": "ipython3",
   "version": "3.13.0"
  }
 },
 "nbformat": 4,
 "nbformat_minor": 2
}
