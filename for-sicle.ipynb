{
 "cells": [
  {
   "cell_type": "markdown",
   "metadata": {},
   "source": [
    "## Sicle for"
   ]
  },
  {
   "cell_type": "code",
   "execution_count": 14,
   "metadata": {},
   "outputs": [],
   "source": [
    "# for - expresses items in the array at once, not ine by one\n",
    "\n",
    "\n",
    "names = ['Abdurahim', 'Abdurashid', 'Sobir', 'Saida', 'Abdurauf', 'Akbar', 'Otabek', 'Bexruz']"
   ]
  },
  {
   "cell_type": "code",
   "execution_count": 2,
   "metadata": {},
   "outputs": [
    {
     "name": "stdout",
     "output_type": "stream",
     "text": [
      " Abdurahim hello, how are you \n"
     ]
    }
   ],
   "source": [
    "print(f\" {names[0]} hello, how are you \")"
   ]
  },
  {
   "cell_type": "code",
   "execution_count": 8,
   "metadata": {},
   "outputs": [
    {
     "name": "stdout",
     "output_type": "stream",
     "text": [
      " hello Abdurahim, how are you my boy \n",
      "['Abdurahim', 'Abdurashid', 'Sobir', 'Saida', 'Abdurauf', 'Akbar', 'Otabek', 'Bexruz'] \t\n",
      " hello Abdurashid, how are you my boy \n",
      "['Abdurahim', 'Abdurashid', 'Sobir', 'Saida', 'Abdurauf', 'Akbar', 'Otabek', 'Bexruz'] \t\n",
      " hello Sobir, how are you my boy \n",
      "['Abdurahim', 'Abdurashid', 'Sobir', 'Saida', 'Abdurauf', 'Akbar', 'Otabek', 'Bexruz'] \t\n",
      " hello Saida, how are you my boy \n",
      "['Abdurahim', 'Abdurashid', 'Sobir', 'Saida', 'Abdurauf', 'Akbar', 'Otabek', 'Bexruz'] \t\n",
      " hello Abdurauf, how are you my boy \n",
      "['Abdurahim', 'Abdurashid', 'Sobir', 'Saida', 'Abdurauf', 'Akbar', 'Otabek', 'Bexruz'] \t\n",
      " hello Akbar, how are you my boy \n",
      "['Abdurahim', 'Abdurashid', 'Sobir', 'Saida', 'Abdurauf', 'Akbar', 'Otabek', 'Bexruz'] \t\n",
      " hello Otabek, how are you my boy \n",
      "['Abdurahim', 'Abdurashid', 'Sobir', 'Saida', 'Abdurauf', 'Akbar', 'Otabek', 'Bexruz'] \t\n",
      " hello Bexruz, how are you my boy \n",
      "['Abdurahim', 'Abdurashid', 'Sobir', 'Saida', 'Abdurauf', 'Akbar', 'Otabek', 'Bexruz'] \t\n"
     ]
    }
   ],
   "source": [
    "for name in names:\n",
    "    print(f\" hello {name}, how are you my boy \")\n",
    "\n",
    "    print(names, '\\t')"
   ]
  },
  {
   "cell_type": "code",
   "execution_count": 9,
   "metadata": {},
   "outputs": [],
   "source": [
    "# also we can use `for` for numbers, strings and for every item\n",
    "\n",
    "numbers = list(range(10, 110, 10))"
   ]
  },
  {
   "cell_type": "code",
   "execution_count": 17,
   "metadata": {},
   "outputs": [
    {
     "name": "stdout",
     "output_type": "stream",
     "text": [
      " square of the 10 is 100 \n",
      " square of the 20 is 400 \n",
      " square of the 30 is 900 \n",
      " square of the 40 is 1600 \n",
      " square of the 50 is 2500 \n",
      " square of the 60 is 3600 \n",
      " square of the 70 is 4900 \n",
      " square of the 80 is 6400 \n",
      " square of the 90 is 8100 \n",
      " square of the 100 is 10000 \n"
     ]
    }
   ],
   "source": [
    "for number in numbers:\n",
    "    print(f\" square of the {number} is {number**2} \")"
   ]
  },
  {
   "cell_type": "code",
   "execution_count": 20,
   "metadata": {},
   "outputs": [
    {
     "name": "stdout",
     "output_type": "stream",
     "text": [
      "[0, 1, 2, 3, 4, 5, 6, 7, 8, 9]\n",
      "[0, 1, 4, 9, 16, 25, 36, 49, 64, 81]\n"
     ]
    }
   ],
   "source": [
    "sonlar = list(range(10))\n",
    "kvadrati = []\n",
    "\n",
    "for son in sonlar:\n",
    "    kvadrati.append(son**2)\n",
    "\n",
    "print(sonlar)\n",
    "print(kvadrati)"
   ]
  },
  {
   "cell_type": "markdown",
   "metadata": {},
   "source": [
    "### for and input "
   ]
  },
  {
   "cell_type": "code",
   "execution_count": 22,
   "metadata": {},
   "outputs": [
    {
     "name": "stdout",
     "output_type": "stream",
     "text": [
      "10 ta dostizni kiriting\n",
      "['asd', 'asd', 'asd', 'sad', 'asd']\n"
     ]
    }
   ],
   "source": [
    "friens = []\n",
    "print('10 ta dostizni kiriting')\n",
    "for n in range(5):\n",
    "    friens.append(input(f\" {n+1}-dostizni kiriting:  \"))\n",
    "\n",
    "print(friens)"
   ]
  },
  {
   "cell_type": "code",
   "execution_count": 24,
   "metadata": {},
   "outputs": [
    {
     "name": "stdout",
     "output_type": "stream",
     "text": [
      " hey John buddy, you have to login again \n",
      "\n",
      " hey Elon buddy, you have to login again \n",
      "\n",
      " hey Justin buddy, you have to login again \n",
      "\n",
      " hey William buddy, you have to login again \n",
      "\n",
      " hey Nick buddy, you have to login again \n",
      "\n",
      " code repeated 5 times \n"
     ]
    }
   ],
   "source": [
    "# practise - 1\n",
    "\n",
    "users = ['John', 'Elon', 'Justin', 'William', 'Nick']\n",
    "\n",
    "for user in users:\n",
    "\n",
    "    print(f\" hey {user} buddy, you have to login again \\n\")\n",
    "\n",
    "print(f\" code repeated {len(users)} times \")"
   ]
  },
  {
   "cell_type": "code",
   "execution_count": 31,
   "metadata": {},
   "outputs": [
    {
     "name": "stdout",
     "output_type": "stream",
     "text": [
      " 11 ning kvadrati 1331 \n",
      " 13 ning kvadrati 2197 \n",
      " 15 ning kvadrati 3375 \n",
      " 17 ning kvadrati 4913 \n",
      " 19 ning kvadrati 6859 \n",
      " 21 ning kvadrati 9261 \n",
      " 23 ning kvadrati 12167 \n",
      " 25 ning kvadrati 15625 \n",
      " 27 ning kvadrati 19683 \n",
      " 29 ning kvadrati 24389 \n",
      " 31 ning kvadrati 29791 \n",
      " 33 ning kvadrati 35937 \n",
      " 35 ning kvadrati 42875 \n",
      " 37 ning kvadrati 50653 \n",
      " 39 ning kvadrati 59319 \n",
      " 41 ning kvadrati 68921 \n",
      " 43 ning kvadrati 79507 \n",
      " 45 ning kvadrati 91125 \n",
      " 47 ning kvadrati 103823 \n",
      " 49 ning kvadrati 117649 \n",
      " 51 ning kvadrati 132651 \n",
      " 53 ning kvadrati 148877 \n",
      " 55 ning kvadrati 166375 \n",
      " 57 ning kvadrati 185193 \n",
      " 59 ning kvadrati 205379 \n",
      " 61 ning kvadrati 226981 \n",
      " 63 ning kvadrati 250047 \n",
      " 65 ning kvadrati 274625 \n",
      " 67 ning kvadrati 300763 \n",
      " 69 ning kvadrati 328509 \n",
      " 71 ning kvadrati 357911 \n",
      " 73 ning kvadrati 389017 \n",
      " 75 ning kvadrati 421875 \n",
      " 77 ning kvadrati 456533 \n",
      " 79 ning kvadrati 493039 \n",
      " 81 ning kvadrati 531441 \n",
      " 83 ning kvadrati 571787 \n",
      " 85 ning kvadrati 614125 \n",
      " 87 ning kvadrati 658503 \n",
      " 89 ning kvadrati 704969 \n",
      " 91 ning kvadrati 753571 \n",
      " 93 ning kvadrati 804357 \n",
      " 95 ning kvadrati 857375 \n",
      " 97 ning kvadrati 912673 \n",
      " 99 ning kvadrati 970299 \n"
     ]
    }
   ],
   "source": [
    "# practise - 2\n",
    "\n",
    "numberss = list(range(11, 100, 2))\n",
    "\n",
    "for number in numberss:\n",
    "\n",
    "    print(f\" {number} ning kvadrati {number**3} \")"
   ]
  },
  {
   "cell_type": "code",
   "execution_count": 33,
   "metadata": {},
   "outputs": [
    {
     "name": "stdout",
     "output_type": "stream",
     "text": [
      "add your top 5 favourite movies\n",
      "['asd', 'fdg', 'rew', '234', 'nbc']\n"
     ]
    }
   ],
   "source": [
    "# practise - 3\n",
    "\n",
    "movies = []\n",
    "print('add your top 5 favourite movies')\n",
    "for n in range(5):\n",
    "    movies.append(input(f\" enter your {n+1} movie:  \"))\n",
    "\n",
    "print(movies)"
   ]
  },
  {
   "cell_type": "code",
   "execution_count": null,
   "metadata": {},
   "outputs": [
    {
     "name": "stdout",
     "output_type": "stream",
     "text": [
      "Har bitta suhbatlashgan insoningizning ismini yozing\n",
      "Sizning javoblaringiz\n",
      "['', '', '', '', '']\n"
     ]
    }
   ],
   "source": [
    "# practise - 4\n",
    "\n",
    "quest = list(int(input('Bugun nechta odam bilan suhbatlashdiz? ')))\n",
    "persons = []\n",
    "for user in range(quest):\n",
    "    persons.append(input(f\" add {user+1} person's name:  \"))\n",
    "print('Sizning javoblaringiz')\n",
    "print(persons)"
   ]
  },
  {
   "cell_type": "code",
   "execution_count": null,
   "metadata": {},
   "outputs": [],
   "source": []
  }
 ],
 "metadata": {
  "kernelspec": {
   "display_name": "Python 3",
   "language": "python",
   "name": "python3"
  },
  "language_info": {
   "codemirror_mode": {
    "name": "ipython",
    "version": 3
   },
   "file_extension": ".py",
   "mimetype": "text/x-python",
   "name": "python",
   "nbconvert_exporter": "python",
   "pygments_lexer": "ipython3",
   "version": "3.13.0"
  }
 },
 "nbformat": 4,
 "nbformat_minor": 2
}
