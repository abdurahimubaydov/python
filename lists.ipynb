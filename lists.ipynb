{
 "cells": [
  {
   "cell_type": "markdown",
   "metadata": {},
   "source": [
    "## Lists\n",
    "\n",
    "\n",
    "#### in lists contains various informations, like strings, numbers, dictionaries and other data types\n",
    "\n",
    "### for example:"
   ]
  },
  {
   "cell_type": "code",
   "execution_count": 1,
   "metadata": {},
   "outputs": [
    {
     "name": "stdout",
     "output_type": "stream",
     "text": [
      "['John', 'Jocelyn', 'Emma', 'Rose']\n",
      "[5435, 756, 3123, 546, 324, -224]\n"
     ]
    }
   ],
   "source": [
    "# list contain from strings\n",
    "names = ['John', 'Jocelyn', 'Emma', 'Rose']\n",
    "print(names)\n",
    "\n",
    "# list contains from numbers (integers and float)\n",
    "numbs = [5435, 756, 3123, 546, 324, -224]\n",
    "print(numbs)\n",
    "\n",
    "# also lists contain mixed data types like:\n",
    "mixed_list = [False, 1000, 'Salmon', UnicodeError]"
   ]
  },
  {
   "cell_type": "markdown",
   "metadata": {},
   "source": [
    "#### Main theory about lists in every programming languages that lists start with `zero` like 0, 1, 2, 3, 4, 5"
   ]
  },
  {
   "cell_type": "code",
   "execution_count": 2,
   "metadata": {},
   "outputs": [
    {
     "data": {
      "text/plain": [
       "5435"
      ]
     },
     "execution_count": 2,
     "metadata": {},
     "output_type": "execute_result"
    }
   ],
   "source": [
    "# taking single information from the list\n",
    "numbs[0] # we take it with index, which I included above"
   ]
  },
  {
   "cell_type": "markdown",
   "metadata": {},
   "source": [
    "## change element in array "
   ]
  },
  {
   "cell_type": "code",
   "execution_count": 8,
   "metadata": {},
   "outputs": [],
   "source": [
    "# we can change elements by its index\n",
    "\n",
    "names[0] = 'Abdurahim'"
   ]
  },
  {
   "cell_type": "code",
   "execution_count": 9,
   "metadata": {},
   "outputs": [
    {
     "name": "stdout",
     "output_type": "stream",
     "text": [
      "Abdurahim\n",
      "abdurahim\n",
      "ABDURAHIM\n"
     ]
    }
   ],
   "source": [
    "print(names[1].title())\n",
    "print(names[1].lower())\n",
    "print(names[1].upper())"
   ]
  },
  {
   "cell_type": "code",
   "execution_count": 5,
   "metadata": {},
   "outputs": [],
   "source": [
    "numbs[0] = 0"
   ]
  },
  {
   "cell_type": "markdown",
   "metadata": {},
   "source": [
    "### we can do mathematical expressions between numerical list's item"
   ]
  },
  {
   "cell_type": "code",
   "execution_count": null,
   "metadata": {},
   "outputs": [
    {
     "data": {
      "text/plain": [
       "0"
      ]
     },
     "execution_count": 23,
     "metadata": {},
     "output_type": "execute_result"
    }
   ],
   "source": [
    "expression = numbs[0]*numbs[-1] # list[-1] or list[-number] means that it takes item from the last index\n",
    "\n",
    "expression"
   ]
  },
  {
   "cell_type": "markdown",
   "metadata": {},
   "source": [
    "### adding elements in array with method `append`\n",
    "\n",
    "we can add an element in array with method append, while we're adding, a new element will be added to after the last index in array"
   ]
  },
  {
   "cell_type": "code",
   "execution_count": null,
   "metadata": {},
   "outputs": [
    {
     "data": {
      "text/plain": [
       "['Abdurahim', 'abdurahim', 'Emma', 'Rose', 'Shaftoli', 'Shaftoli']"
      ]
     },
     "execution_count": 15,
     "metadata": {},
     "output_type": "execute_result"
    }
   ],
   "source": [
    "names.append('Shaftoli')\n",
    "names"
   ]
  },
  {
   "cell_type": "markdown",
   "metadata": {},
   "source": [
    "`sometimes we got a task that we should add element inside of the array for example in first or second index`\n",
    "\n",
    "### There come to help method `insert`\n",
    "\n",
    "##### with `insert` method we can add elements in every index that we want"
   ]
  },
  {
   "cell_type": "code",
   "execution_count": 16,
   "metadata": {},
   "outputs": [],
   "source": [
    "names.insert(2, 'Qalandar')"
   ]
  },
  {
   "cell_type": "code",
   "execution_count": 17,
   "metadata": {},
   "outputs": [
    {
     "data": {
      "text/plain": [
       "['Abdurahim', 'abdurahim', 'Qalandar', 'Emma', 'Rose', 'Shaftoli', 'Shaftoli']"
      ]
     },
     "execution_count": 17,
     "metadata": {},
     "output_type": "execute_result"
    }
   ],
   "source": [
    "names"
   ]
  },
  {
   "cell_type": "markdown",
   "metadata": {},
   "source": [
    "### There two ways to delete elements from the array \n",
    "\n",
    "1 - `del`\n",
    "\n",
    "2 - `remove`"
   ]
  },
  {
   "cell_type": "code",
   "execution_count": 18,
   "metadata": {},
   "outputs": [],
   "source": [
    "# with del method we can delete by its index \n",
    "\n",
    "del names[1]"
   ]
  },
  {
   "cell_type": "code",
   "execution_count": 19,
   "metadata": {},
   "outputs": [
    {
     "data": {
      "text/plain": [
       "['Abdurahim', 'Qalandar', 'Emma', 'Rose', 'Shaftoli', 'Shaftoli']"
      ]
     },
     "execution_count": 19,
     "metadata": {},
     "output_type": "execute_result"
    }
   ],
   "source": [
    "names"
   ]
  },
  {
   "cell_type": "code",
   "execution_count": 20,
   "metadata": {},
   "outputs": [],
   "source": [
    "things = ['pen', 'book', 'notebook', 'pen', 'ruler']"
   ]
  },
  {
   "cell_type": "code",
   "execution_count": null,
   "metadata": {},
   "outputs": [],
   "source": [
    "# with remove method we can remove by its value\n",
    "things.remove('pen')"
   ]
  },
  {
   "cell_type": "markdown",
   "metadata": {},
   "source": [
    "### should be carefully while deleting index's by method `remove`, cause when u have several values in the array, they will be deleted"
   ]
  },
  {
   "cell_type": "code",
   "execution_count": 24,
   "metadata": {},
   "outputs": [
    {
     "data": {
      "text/plain": [
       "['book', 'notebook', 'ruler']"
      ]
     },
     "execution_count": 24,
     "metadata": {},
     "output_type": "execute_result"
    }
   ],
   "source": [
    "things"
   ]
  },
  {
   "cell_type": "markdown",
   "metadata": {},
   "source": [
    "### slice elements from array "
   ]
  },
  {
   "cell_type": "code",
   "execution_count": 31,
   "metadata": {},
   "outputs": [
    {
     "data": {
      "text/plain": [
       "6"
      ]
     },
     "execution_count": 31,
     "metadata": {},
     "output_type": "execute_result"
    }
   ],
   "source": [
    "bought_products = ['milk', 'apple', 'ketchup', 'lays', 'coke', 'banana']\n",
    "\n",
    "len(bought_products)"
   ]
  },
  {
   "cell_type": "code",
   "execution_count": 33,
   "metadata": {},
   "outputs": [],
   "source": [
    "will_be_returned = bought_products.pop(1)"
   ]
  },
  {
   "cell_type": "code",
   "execution_count": 34,
   "metadata": {},
   "outputs": [
    {
     "data": {
      "text/plain": [
       "5"
      ]
     },
     "execution_count": 34,
     "metadata": {},
     "output_type": "execute_result"
    }
   ],
   "source": [
    "len(bought_products)"
   ]
  },
  {
   "cell_type": "markdown",
   "metadata": {},
   "source": [
    "# Practise"
   ]
  },
  {
   "cell_type": "code",
   "execution_count": 36,
   "metadata": {},
   "outputs": [],
   "source": [
    "# 1\n",
    "\n",
    "names = ['Abdurashid', 'Sardor', 'Amin']"
   ]
  },
  {
   "cell_type": "code",
   "execution_count": 38,
   "metadata": {},
   "outputs": [
    {
     "name": "stdout",
     "output_type": "stream",
     "text": [
      " Abdurashid will hang out today? \n",
      " Sardor what's the time bro? \n",
      " Amin When you will learn english man? \n"
     ]
    }
   ],
   "source": [
    "# 2\n",
    "\n",
    "print(f\" {names[0]} will hang out today? \")\n",
    "print(f\" {names[1]} what's the time bro? \")\n",
    "print(f\" {names[2]} When you will learn english man? \")"
   ]
  },
  {
   "cell_type": "code",
   "execution_count": 42,
   "metadata": {},
   "outputs": [
    {
     "name": "stdout",
     "output_type": "stream",
     "text": [
      " Khwarezmi invented the algorithm, and Musk is the richest person in the world \n"
     ]
    }
   ],
   "source": [
    "t_shaxslar = ['amir temur', 'Bonapart', 'khwarezmi', 'Beruni']\n",
    "z_shaxslar = ['musk', 'gates']\n",
    "\n",
    "sliced_value_from_his_people = t_shaxslar.pop(2).title()\n",
    "sliced_value_from_modern_people = z_shaxslar.pop(-2).title()\n",
    "\n",
    "print(f\" {sliced_value_from_his_people} invented the algorithm, and {sliced_value_from_modern_people} is the richest person in the world \")"
   ]
  },
  {
   "cell_type": "code",
   "execution_count": null,
   "metadata": {},
   "outputs": [],
   "source": []
  }
 ],
 "metadata": {
  "kernelspec": {
   "display_name": "Python 3",
   "language": "python",
   "name": "python3"
  },
  "language_info": {
   "codemirror_mode": {
    "name": "ipython",
    "version": 3
   },
   "file_extension": ".py",
   "mimetype": "text/x-python",
   "name": "python",
   "nbconvert_exporter": "python",
   "pygments_lexer": "ipython3",
   "version": "3.9.6"
  }
 },
 "nbformat": 4,
 "nbformat_minor": 2
}
