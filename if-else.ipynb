{
 "cells": [
  {
   "cell_type": "markdown",
   "metadata": {},
   "source": [
    "## IF and ELSE"
   ]
  },
  {
   "cell_type": "code",
   "execution_count": null,
   "metadata": {},
   "outputs": [
    {
     "name": "stdout",
     "output_type": "stream",
     "text": [
      "Audi\n",
      "Bmw\n",
      "Volvo\n",
      "Kia\n",
      "Hyundai\n"
     ]
    }
   ],
   "source": [
    "avtolar = ['audi','bmw','volvo','kia','hyundai']\n",
    "\n",
    "for car in avtolar:\n",
    "    if car == 'hyundai':\n",
    "        print(car.upper())\n",
    "    else:\n",
    "        print(car.title())"
   ]
  },
  {
   "cell_type": "markdown",
   "metadata": {},
   "source": [
    "# Practise"
   ]
  },
  {
   "cell_type": "code",
   "execution_count": 6,
   "metadata": {},
   "outputs": [
    {
     "name": "stdout",
     "output_type": "stream",
     "text": [
      "Toyota\n",
      "Mazda\n",
      "Hyundai\n",
      "GM\n",
      "Kia\n"
     ]
    }
   ],
   "source": [
    "# 1\n",
    "cars = ['toyota', 'mazda', 'hyundai', 'gm', 'kia']\n",
    "\n",
    "for car in cars:\n",
    "    if car == 'gm':\n",
    "        print(car.upper())\n",
    "    else:\n",
    "        print(car.title())"
   ]
  },
  {
   "cell_type": "code",
   "execution_count": null,
   "metadata": {},
   "outputs": [
    {
     "name": "stdout",
     "output_type": "stream",
     "text": [
      "TOYOTA\n",
      "MAZDA\n",
      "HYUNDAI\n",
      "Gm\n",
      "KIA\n"
     ]
    }
   ],
   "source": [
    "# 2\n",
    "cars = ['toyota', 'mazda', 'hyundai', 'gm', 'kia']\n",
    "\n",
    "for car in cars:\n",
    "    if car != 'gm':\n",
    "        print(car.upper())\n",
    "    else:\n",
    "        print(car.title())"
   ]
  },
  {
   "cell_type": "code",
   "execution_count": null,
   "metadata": {},
   "outputs": [
    {
     "name": "stdout",
     "output_type": "stream",
     "text": [
      "welcome admin\n"
     ]
    }
   ],
   "source": [
    "# 3\n",
    "user_name = str(input('What\\'s your name? '))\n",
    "\n",
    "if user_name == 'abdurahim': print('welcome admin')\n",
    "else: print(f\" welcome {user_name} \")"
   ]
  },
  {
   "cell_type": "code",
   "execution_count": 17,
   "metadata": {},
   "outputs": [
    {
     "name": "stdout",
     "output_type": "stream",
     "text": [
      "numbers are equal\n"
     ]
    }
   ],
   "source": [
    "# 4\n",
    "\n",
    "first_numb = int(input('enter the first number: '))\n",
    "second_numb = int(input('enter the second number: '))\n",
    "\n",
    "if first_numb == second_numb: print('numbers are equal')\n",
    "else: print('next time')"
   ]
  },
  {
   "cell_type": "code",
   "execution_count": 21,
   "metadata": {},
   "outputs": [
    {
     "name": "stdout",
     "output_type": "stream",
     "text": [
      "manfiy\n"
     ]
    }
   ],
   "source": [
    "# 5\n",
    "\n",
    "number = int(input('Istalgan sonni kiriting: '))\n",
    "\n",
    "if number > 0:\n",
    "    print('musbat')\n",
    "else: \n",
    "    print('manfiy')"
   ]
  },
  {
   "cell_type": "code",
   "execution_count": 23,
   "metadata": {},
   "outputs": [
    {
     "name": "stdout",
     "output_type": "stream",
     "text": [
      "Musbat son kiriting\n"
     ]
    }
   ],
   "source": [
    "# 6\n",
    "\n",
    "numb = int(input('Enter the number: '))\n",
    "\n",
    "if numb > 0: print(f\" {numb} ning ildizi {numb**2} \")\n",
    "else: print('Musbat son kiriting')"
   ]
  },
  {
   "cell_type": "code",
   "execution_count": null,
   "metadata": {},
   "outputs": [],
   "source": [
    "# 7 \n",
    "\n",
    "goods = ['strawberry', 'egg', 'cucumber', 'bisquit', 'cake', 'apple', 'milk', 'water', 'candy', 'mint']\n",
    "cart = []\n",
    "print('At least add 5 product!!!')\n",
    "\n",
    "\n",
    "for n in range(5):\n",
    "    cart.append(input(f' {n+1}-mahsulot nomini kiriting>>> '))\n",
    "\n",
    "for product in cart:\n",
    "    if product in goods:\n",
    "        print(f'{product} available in our store')\n",
    "    else: \n",
    "        print(f'sorry, {product} unavaible')\n",
    "\n",
    "print(cart)"
   ]
  },
  {
   "cell_type": "code",
   "execution_count": null,
   "metadata": {},
   "outputs": [],
   "source": [
    "# 8\n",
    "\n",
    "goods = ['strawberry', 'egg', 'cucumber', 'bisquit', 'cake', 'apple', 'milk', 'water', 'candy', 'mint']\n",
    "available_products = []\n",
    "unavailable_products = []\n",
    "cart = []\n",
    "\n",
    "for n in range(5):\n",
    "    cart.append(input(f'add {n+1} product: '))\n",
    "\n",
    "for product in cart:\n",
    "    if product in goods:\n",
    "        available_products.append(product)\n",
    "    else:\n",
    "        unavailable_products.append(product)\n",
    "\n",
    "if unavailable_products:\n",
    "    print('this items unavailable in our store: ')\n",
    "    for unavailable_product in unavailable_products:\n",
    "        print(product)\n",
    "else: print(' everything available that you wish ')"
   ]
  }
 ],
 "metadata": {
  "kernelspec": {
   "display_name": "Python 3",
   "language": "python",
   "name": "python3"
  },
  "language_info": {
   "codemirror_mode": {
    "name": "ipython",
    "version": 3
   },
   "file_extension": ".py",
   "mimetype": "text/x-python",
   "name": "python",
   "nbconvert_exporter": "python",
   "pygments_lexer": "ipython3",
   "version": "3.13.0"
  }
 },
 "nbformat": 4,
 "nbformat_minor": 2
}
